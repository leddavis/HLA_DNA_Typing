{
 "cells": [
  {
   "cell_type": "code",
   "execution_count": 1,
   "id": "5aa68756",
   "metadata": {},
   "outputs": [],
   "source": [
    "import pandas as pd\n",
    "import bamnostic as bs\n",
    "import os"
   ]
  },
  {
   "cell_type": "code",
   "execution_count": 7,
   "id": "77f9a03b-c307-45f6-9c08-724c2b20349c",
   "metadata": {},
   "outputs": [],
   "source": [
    "from HLA_DNA_Typing import main as m"
   ]
  },
  {
   "cell_type": "code",
   "execution_count": 8,
   "id": "dcc28302-a2b4-4f69-8c77-f28f40066f34",
   "metadata": {},
   "outputs": [],
   "source": [
    "sample_file = 'tests/Test_Data/initial_tests.fasta'\n",
    "hla_file = 'tests/Test_Data/initial_hla_tests.fasta'\n",
    "sample_file_type = \"fasta\""
   ]
  },
  {
   "cell_type": "code",
   "execution_count": 9,
   "id": "739576b3-6956-4ea1-84db-6226b37a258b",
   "metadata": {},
   "outputs": [
    {
     "ename": "NameError",
     "evalue": "name 'file_name' is not defined",
     "output_type": "error",
     "traceback": [
      "\u001b[0;31m---------------------------------------------------------------------------\u001b[0m",
      "\u001b[0;31mNameError\u001b[0m                                 Traceback (most recent call last)",
      "\u001b[0;32m/var/folders/pk/44312bk10qg7m62hr250ffzw0000gn/T/ipykernel_10525/4105968571.py\u001b[0m in \u001b[0;36m<module>\u001b[0;34m\u001b[0m\n\u001b[0;32m----> 1\u001b[0;31m \u001b[0mm\u001b[0m\u001b[0;34m.\u001b[0m\u001b[0mHLA_DNA_Typing\u001b[0m\u001b[0;34m(\u001b[0m\u001b[0mhla_file\u001b[0m\u001b[0;34m,\u001b[0m \u001b[0msample_file\u001b[0m\u001b[0;34m,\u001b[0m \u001b[0msample_file_type\u001b[0m\u001b[0;34m)\u001b[0m\u001b[0;34m\u001b[0m\u001b[0;34m\u001b[0m\u001b[0m\n\u001b[0m",
      "\u001b[0;32m~/opt/anaconda3/lib/python3.9/site-packages/HLA_DNA_Typing/main.py\u001b[0m in \u001b[0;36mHLA_DNA_Typing\u001b[0;34m(HLAs_file, sample_file, sample_file_type)\u001b[0m\n\u001b[1;32m    234\u001b[0m                    \u001b[0;34m'DRB7'\u001b[0m\u001b[0;34m:\u001b[0m \u001b[0;36m3129\u001b[0m\u001b[0;34m,\u001b[0m \u001b[0;34m'DRB8'\u001b[0m\u001b[0;34m:\u001b[0m \u001b[0;36m3130\u001b[0m\u001b[0;34m,\u001b[0m \u001b[0;34m'DRB9'\u001b[0m\u001b[0;34m:\u001b[0m \u001b[0;36m3132\u001b[0m\u001b[0;34m,\u001b[0m \u001b[0;34m'HFE'\u001b[0m\u001b[0;34m:\u001b[0m \u001b[0;36m3077\u001b[0m\u001b[0;34m,\u001b[0m \u001b[0;34m'MICA'\u001b[0m\u001b[0;34m:\u001b[0m \u001b[0;36m100507436\u001b[0m\u001b[0;34m,\u001b[0m\u001b[0;31m \u001b[0m\u001b[0;31m\\\u001b[0m\u001b[0;34m\u001b[0m\u001b[0;34m\u001b[0m\u001b[0m\n\u001b[1;32m    235\u001b[0m                    'MICB': 4277, 'TAP1': 6890, 'TAP2': 6891}\n\u001b[0;32m--> 236\u001b[0;31m     \u001b[0mHLAs_data\u001b[0m \u001b[0;34m=\u001b[0m \u001b[0mread_HLA_data\u001b[0m\u001b[0;34m(\u001b[0m\u001b[0mHLAs_file\u001b[0m\u001b[0;34m,\u001b[0m \u001b[0mHLA_Gene_IDs\u001b[0m\u001b[0;34m)\u001b[0m \u001b[0;31m## Get this to be the file directly from the IGHT-HLA database repository -- For now use downloaded version\u001b[0m\u001b[0;34m\u001b[0m\u001b[0;34m\u001b[0m\u001b[0m\n\u001b[0m\u001b[1;32m    237\u001b[0m     \u001b[0msample_data\u001b[0m \u001b[0;34m=\u001b[0m \u001b[0mread_sample_data\u001b[0m\u001b[0;34m(\u001b[0m\u001b[0msample_file\u001b[0m\u001b[0;34m,\u001b[0m \u001b[0msample_file_type\u001b[0m\u001b[0;34m,\u001b[0m \u001b[0mHLA_Gene_IDs\u001b[0m\u001b[0;34m)\u001b[0m \u001b[0;31m## List of Sample_Seqs\u001b[0m\u001b[0;34m\u001b[0m\u001b[0;34m\u001b[0m\u001b[0m\n\u001b[1;32m    238\u001b[0m     \u001b[0mmatches\u001b[0m \u001b[0;34m=\u001b[0m \u001b[0;34m[\u001b[0m\u001b[0;34m]\u001b[0m\u001b[0;34m\u001b[0m\u001b[0;34m\u001b[0m\u001b[0m\n",
      "\u001b[0;32m~/opt/anaconda3/lib/python3.9/site-packages/HLA_DNA_Typing/main.py\u001b[0m in \u001b[0;36mread_HLA_data\u001b[0;34m(HLAs_file, gene_id_dict)\u001b[0m\n\u001b[1;32m    122\u001b[0m     '''\n\u001b[1;32m    123\u001b[0m     \u001b[0mHLAs_data\u001b[0m \u001b[0;34m=\u001b[0m \u001b[0;34m{\u001b[0m\u001b[0;34m}\u001b[0m \u001b[0;31m## Dictionary with keys as HLA genes and values as the alleles for that gene\u001b[0m\u001b[0;34m\u001b[0m\u001b[0;34m\u001b[0m\u001b[0m\n\u001b[0;32m--> 124\u001b[0;31m     \u001b[0;32mif\u001b[0m \u001b[0;34m'.gz'\u001b[0m \u001b[0;32min\u001b[0m \u001b[0mfile_name\u001b[0m\u001b[0;34m:\u001b[0m\u001b[0;34m\u001b[0m\u001b[0;34m\u001b[0m\u001b[0m\n\u001b[0m\u001b[1;32m    125\u001b[0m         \u001b[0mfile\u001b[0m \u001b[0;34m=\u001b[0m \u001b[0mgzip\u001b[0m\u001b[0;34m.\u001b[0m\u001b[0mopen\u001b[0m\u001b[0;34m(\u001b[0m\u001b[0mfile_name\u001b[0m\u001b[0;34m,\u001b[0m \u001b[0;34m'rt'\u001b[0m\u001b[0;34m)\u001b[0m\u001b[0;34m\u001b[0m\u001b[0;34m\u001b[0m\u001b[0m\n\u001b[1;32m    126\u001b[0m     \u001b[0;32melse\u001b[0m\u001b[0;34m:\u001b[0m\u001b[0;34m\u001b[0m\u001b[0;34m\u001b[0m\u001b[0m\n",
      "\u001b[0;31mNameError\u001b[0m: name 'file_name' is not defined"
     ]
    }
   ],
   "source": [
    "m.HLA_DNA_Typing(hla_file, sample_file, sample_file_type)"
   ]
  },
  {
   "cell_type": "code",
   "execution_count": null,
   "id": "1ed5ab09",
   "metadata": {},
   "outputs": [],
   "source": []
  }
 ],
 "metadata": {
  "kernelspec": {
   "display_name": "Python 3 (ipykernel)",
   "language": "python",
   "name": "python3"
  },
  "language_info": {
   "codemirror_mode": {
    "name": "ipython",
    "version": 3
   },
   "file_extension": ".py",
   "mimetype": "text/x-python",
   "name": "python",
   "nbconvert_exporter": "python",
   "pygments_lexer": "ipython3",
   "version": "3.9.13"
  }
 },
 "nbformat": 4,
 "nbformat_minor": 5
}
