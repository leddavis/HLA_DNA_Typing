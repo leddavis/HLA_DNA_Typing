{
 "cells": [
  {
   "cell_type": "code",
   "execution_count": 1,
   "id": "77f9a03b-c307-45f6-9c08-724c2b20349c",
   "metadata": {},
   "outputs": [],
   "source": [
    "from HLA_DNA_Typing import main as m"
   ]
  },
  {
   "cell_type": "code",
   "execution_count": null,
   "id": "dcc28302-a2b4-4f69-8c77-f28f40066f34",
   "metadata": {},
   "outputs": [],
   "source": []
  },
  {
   "cell_type": "code",
   "execution_count": null,
   "id": "d54648a5-5cff-450a-b722-190cbc4997bd",
   "metadata": {},
   "outputs": [],
   "source": []
  }
 ],
 "metadata": {
  "kernelspec": {
   "display_name": "Python 3 (ipykernel)",
   "language": "python",
   "name": "python3"
  },
  "language_info": {
   "codemirror_mode": {
    "name": "ipython",
    "version": 3
   },
   "file_extension": ".py",
   "mimetype": "text/x-python",
   "name": "python",
   "nbconvert_exporter": "python",
   "pygments_lexer": "ipython3",
   "version": "3.9.13"
  }
 },
 "nbformat": 4,
 "nbformat_minor": 5
}
