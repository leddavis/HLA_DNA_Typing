{
 "cells": [
  {
   "cell_type": "code",
   "execution_count": 1,
   "id": "f3ec7d89",
   "metadata": {},
   "outputs": [],
   "source": [
    "from HLA_DNA_Typing import main as m"
   ]
  },
  {
   "cell_type": "code",
   "execution_count": 2,
   "id": "86f587a6",
   "metadata": {},
   "outputs": [],
   "source": [
    "sample_file = 'data/real_data_simulation.fasta'\n",
    "hla_file = 'data/hla_gen.fasta'\n",
    "sample_file_type = \"fasta\""
   ]
  },
  {
   "cell_type": "code",
   "execution_count": 3,
   "id": "edc9b903",
   "metadata": {},
   "outputs": [
    {
     "data": {
      "text/plain": [
       "['HLA:HLA00070 A*24:20:01:01 3502 bp',\n",
       " 'HLA:HLA00311 B*40:20:01:01 3983 bp',\n",
       " 'HLA:HLA23838 C*07:808 2975 bp',\n",
       " 'HLA:HLA06469 DRA*01:01:01:02 5712 bp',\n",
       " 'HLA:HLA25039 DRB1*01:01:01:02 10656 bp',\n",
       " 'HLA:HLA00887 DRB3*01:01:02:01 12905 bp',\n",
       " 'HLA:HLA00915 DRB5*01:01:01:01 13445 bp',\n",
       " 'HLA:HLA14787 DQA1*01:01:01:03 5667 bp',\n",
       " 'HLA:HLA00638 DQB1*05:01:01:01 7090 bp',\n",
       " 'HLA:HLA06606 DPA1*01:03:01:05 9757 bp',\n",
       " 'HLA:HLA14841 DPB2*03:01:01:03 17521 bp']"
      ]
     },
     "execution_count": 3,
     "metadata": {},
     "output_type": "execute_result"
    }
   ],
   "source": [
    "m.HLA_DNA_Typing(hla_file, sample_file, sample_file_type)"
   ]
  },
  {
   "cell_type": "code",
   "execution_count": null,
   "id": "0636d111",
   "metadata": {},
   "outputs": [],
   "source": []
  }
 ],
 "metadata": {
  "kernelspec": {
   "display_name": "Python 3 (ipykernel)",
   "language": "python",
   "name": "python3"
  },
  "language_info": {
   "codemirror_mode": {
    "name": "ipython",
    "version": 3
   },
   "file_extension": ".py",
   "mimetype": "text/x-python",
   "name": "python",
   "nbconvert_exporter": "python",
   "pygments_lexer": "ipython3",
   "version": "3.10.9"
  }
 },
 "nbformat": 4,
 "nbformat_minor": 5
}
