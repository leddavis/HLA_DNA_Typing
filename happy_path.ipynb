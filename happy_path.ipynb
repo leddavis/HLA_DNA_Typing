{
 "cells": [
  {
   "cell_type": "code",
   "execution_count": 1,
   "id": "77f9a03b-c307-45f6-9c08-724c2b20349c",
   "metadata": {},
   "outputs": [],
   "source": [
    "from HLA_DNA_Typing import main as m"
   ]
  },
  {
   "cell_type": "code",
   "execution_count": 2,
   "id": "dcc28302-a2b4-4f69-8c77-f28f40066f34",
   "metadata": {},
   "outputs": [],
   "source": [
    "sample_file = 'tests/Test_Data/tutorial_sample_data.fasta'\n",
    "hla_file = 'tests/Test_Data/tutorial_hla_data.fasta'\n",
    "sample_file_type = \"fasta\""
   ]
  },
  {
   "cell_type": "code",
   "execution_count": 3,
   "id": "739576b3-6956-4ea1-84db-6226b37a258b",
   "metadata": {},
   "outputs": [
    {
     "data": {
      "text/plain": [
       "['HLA:HLA00001 A*01:01:01:01 3503 bp', 'HLA:HLA32627 B*44:02:01:71 2712 bp']"
      ]
     },
     "execution_count": 3,
     "metadata": {},
     "output_type": "execute_result"
    }
   ],
   "source": [
    "m.HLA_DNA_Typing(hla_file, sample_file, sample_file_type)"
   ]
  }
 ],
 "metadata": {
  "kernelspec": {
   "display_name": "Python 3 (ipykernel)",
   "language": "python",
   "name": "python3"
  },
  "language_info": {
   "codemirror_mode": {
    "name": "ipython",
    "version": 3
   },
   "file_extension": ".py",
   "mimetype": "text/x-python",
   "name": "python",
   "nbconvert_exporter": "python",
   "pygments_lexer": "ipython3",
   "version": "3.10.9"
  }
 },
 "nbformat": 4,
 "nbformat_minor": 5
}
